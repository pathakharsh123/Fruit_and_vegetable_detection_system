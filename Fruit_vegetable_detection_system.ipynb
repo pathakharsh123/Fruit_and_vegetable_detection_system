{
  "nbformat": 4,
  "nbformat_minor": 0,
  "metadata": {
    "colab": {
      "provenance": [],
      "mount_file_id": "14MJ_FHCAn1uXS4Y2nZnWcpMrCFLDylBt",
      "authorship_tag": "ABX9TyP0KjY3HG+b0Ek+YKkk3u/p",
      "include_colab_link": true
    },
    "kernelspec": {
      "name": "python3",
      "display_name": "Python 3"
    },
    "language_info": {
      "name": "python"
    }
  },
  "cells": [
    {
      "cell_type": "markdown",
      "metadata": {
        "id": "view-in-github",
        "colab_type": "text"
      },
      "source": [
        "<a href=\"https://colab.research.google.com/github/pathakharsh123/Fruit_and_vegetable_detection_system/blob/master/Fruit_vegetable_detection_system.ipynb\" target=\"_parent\"><img src=\"https://colab.research.google.com/assets/colab-badge.svg\" alt=\"Open In Colab\"/></a>"
      ]
    },
    {
      "cell_type": "markdown",
      "source": [
        "#Import Dataset\n",
        "\n",
        "\n"
      ],
      "metadata": {
        "id": "1yK_b6JozNsY"
      }
    },
    {
      "cell_type": "markdown",
      "source": [
        "#importing libraries\n"
      ],
      "metadata": {
        "id": "_HHHAk-T0Df4"
      }
    },
    {
      "cell_type": "code",
      "execution_count": 1,
      "metadata": {
        "id": "RdaYQAy7y85M"
      },
      "outputs": [],
      "source": [
        "import numpy as np\n",
        "import tensorflow as tf\n",
        "import matplotlib.pyplot as plt\n"
      ]
    },
    {
      "cell_type": "markdown",
      "source": [
        "#Data Preprocessing\n"
      ],
      "metadata": {
        "id": "Bpo5FsHC0uWd"
      }
    },
    {
      "cell_type": "markdown",
      "source": [
        "#Training Image Preprocessing"
      ],
      "metadata": {
        "id": "8MeV_iAT6ERi"
      }
    },
    {
      "cell_type": "code",
      "source": [
        "training_set  = tf.keras.utils.image_dataset_from_directory(\n",
        "    '/content/drive/MyDrive/Colab_Notebooks/dataset/train',\n",
        "     labels= 'inferred',\n",
        "     label_mode = 'categorical',\n",
        "     class_names =  None,\n",
        "     color_mode= 'rgb',\n",
        "     batch_size= 32,\n",
        "     image_size= (64,64),\n",
        "     shuffle = True,\n",
        "     seed = None,\n",
        "     validation_split= None,\n",
        "     subset = None,\n",
        "     interpolation = \"bilinear\",\n",
        "     follow_links = False,\n",
        "     crop_to_aspect_ratio = False\n",
        ")"
      ],
      "metadata": {
        "colab": {
          "base_uri": "https://localhost:8080/"
        },
        "id": "0CQA1jiP0xm0",
        "outputId": "e2c2534c-a4f8-4687-9da9-41828eee7e79"
      },
      "execution_count": 6,
      "outputs": [
        {
          "output_type": "stream",
          "name": "stdout",
          "text": [
            "Found 3115 files belonging to 36 classes.\n"
          ]
        }
      ]
    },
    {
      "cell_type": "markdown",
      "source": [
        "#Validation Image Preprocessing"
      ],
      "metadata": {
        "id": "baqwLP146P6c"
      }
    },
    {
      "cell_type": "code",
      "source": [
        "validation_set  = tf.keras.utils.image_dataset_from_directory(\n",
        "    '/content/drive/MyDrive/Colab_Notebooks/dataset/validation',\n",
        "     labels= 'inferred',\n",
        "     label_mode = 'categorical',\n",
        "     class_names =  None,\n",
        "     color_mode= 'rgb',\n",
        "     batch_size= 32,\n",
        "     image_size= (64,64),\n",
        "     shuffle = True,\n",
        "     seed = None,\n",
        "     validation_split= None,\n",
        "     subset = None,\n",
        "     interpolation = \"bilinear\",\n",
        "     follow_links = False,\n",
        "     crop_to_aspect_ratio = False\n",
        ")"
      ],
      "metadata": {
        "colab": {
          "base_uri": "https://localhost:8080/"
        },
        "id": "0CrAQAZg6LrV",
        "outputId": "3623d0a7-fb00-4b27-b319-218041d46d6b"
      },
      "execution_count": 7,
      "outputs": [
        {
          "output_type": "stream",
          "name": "stdout",
          "text": [
            "Found 351 files belonging to 36 classes.\n"
          ]
        }
      ]
    }
  ]
}