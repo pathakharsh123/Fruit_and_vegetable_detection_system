{
  "nbformat": 4,
  "nbformat_minor": 0,
  "metadata": {
    "colab": {
      "provenance": [],
      "mount_file_id": "14MJ_FHCAn1uXS4Y2nZnWcpMrCFLDylBt",
      "authorship_tag": "ABX9TyO57Ku42whN8laJzeAGbCJd",
      "include_colab_link": true
    },
    "kernelspec": {
      "name": "python3",
      "display_name": "Python 3"
    },
    "language_info": {
      "name": "python"
    }
  },
  "cells": [
    {
      "cell_type": "markdown",
      "metadata": {
        "id": "view-in-github",
        "colab_type": "text"
      },
      "source": [
        "<a href=\"https://colab.research.google.com/github/pathakharsh123/Fruit_and_vegetable_detection_system/blob/master/Fruit_vegetable_detection_system.ipynb\" target=\"_parent\"><img src=\"https://colab.research.google.com/assets/colab-badge.svg\" alt=\"Open In Colab\"/></a>"
      ]
    },
    {
      "cell_type": "markdown",
      "source": [
        "#Import Dataset\n",
        "\n",
        "\n"
      ],
      "metadata": {
        "id": "1yK_b6JozNsY"
      }
    },
    {
      "cell_type": "code",
      "source": [
        "from google.colab import drive\n",
        "drive.mount('/content/drive')"
      ],
      "metadata": {
        "colab": {
          "base_uri": "https://localhost:8080/"
        },
        "id": "Tiu4bKDTV7H1",
        "outputId": "62009b69-a0fc-43b1-eb09-e9c3954e9e9a"
      },
      "execution_count": 1,
      "outputs": [
        {
          "output_type": "stream",
          "name": "stdout",
          "text": [
            "Mounted at /content/drive\n"
          ]
        }
      ]
    },
    {
      "cell_type": "markdown",
      "source": [
        "#importing libraries\n"
      ],
      "metadata": {
        "id": "_HHHAk-T0Df4"
      }
    },
    {
      "cell_type": "code",
      "execution_count": 2,
      "metadata": {
        "id": "RdaYQAy7y85M"
      },
      "outputs": [],
      "source": [
        "import numpy as np\n",
        "import tensorflow as tf\n",
        "import matplotlib.pyplot as plt\n"
      ]
    },
    {
      "cell_type": "markdown",
      "source": [
        "#Data Preprocessing\n"
      ],
      "metadata": {
        "id": "Bpo5FsHC0uWd"
      }
    },
    {
      "cell_type": "markdown",
      "source": [
        "#Training Image Preprocessing"
      ],
      "metadata": {
        "id": "8MeV_iAT6ERi"
      }
    },
    {
      "cell_type": "code",
      "source": [
        "training_set  = tf.keras.utils.image_dataset_from_directory(\n",
        "    '/content/drive/MyDrive/Colab_Notebooks/dataset/train',\n",
        "     labels= 'inferred',\n",
        "     label_mode = 'categorical',\n",
        "     class_names =  None,\n",
        "     color_mode= 'rgb',\n",
        "     batch_size= 32,\n",
        "     image_size= (64,64),\n",
        "     shuffle = True,\n",
        "     seed = None,\n",
        "     validation_split= None,\n",
        "     subset = None,\n",
        "     interpolation = \"bilinear\",\n",
        "     follow_links = False,\n",
        "     crop_to_aspect_ratio = False\n",
        ")"
      ],
      "metadata": {
        "colab": {
          "base_uri": "https://localhost:8080/"
        },
        "id": "0CQA1jiP0xm0",
        "outputId": "fb342456-4bc6-4387-c127-f60e99c1bfce"
      },
      "execution_count": 3,
      "outputs": [
        {
          "output_type": "stream",
          "name": "stdout",
          "text": [
            "Found 3115 files belonging to 36 classes.\n"
          ]
        }
      ]
    },
    {
      "cell_type": "markdown",
      "source": [
        "#Validation Image Preprocessing"
      ],
      "metadata": {
        "id": "baqwLP146P6c"
      }
    },
    {
      "cell_type": "code",
      "source": [
        "validation_set  = tf.keras.utils.image_dataset_from_directory(\n",
        "    '/content/drive/MyDrive/Colab_Notebooks/dataset/validation',\n",
        "     labels= 'inferred',\n",
        "     label_mode = 'categorical',\n",
        "     class_names =  None,\n",
        "     color_mode= 'rgb',\n",
        "     batch_size= 32,\n",
        "     image_size= (64,64),\n",
        "     shuffle = True,\n",
        "     seed = None,\n",
        "     validation_split= None,\n",
        "     subset = None,\n",
        "     interpolation = \"bilinear\",\n",
        "     follow_links = False,\n",
        "     crop_to_aspect_ratio = False\n",
        ")"
      ],
      "metadata": {
        "colab": {
          "base_uri": "https://localhost:8080/"
        },
        "id": "0CrAQAZg6LrV",
        "outputId": "d1473628-e8ff-45cd-d7dd-97df0605f5a4"
      },
      "execution_count": 4,
      "outputs": [
        {
          "output_type": "stream",
          "name": "stdout",
          "text": [
            "Found 351 files belonging to 36 classes.\n"
          ]
        }
      ]
    },
    {
      "cell_type": "markdown",
      "source": [
        "#Building model"
      ],
      "metadata": {
        "id": "F-gaI9HpBGEV"
      }
    },
    {
      "cell_type": "code",
      "source": [
        "cnn = tf.keras.models.Sequential()"
      ],
      "metadata": {
        "id": "WRXbUY-UBIIr"
      },
      "execution_count": 5,
      "outputs": []
    },
    {
      "cell_type": "markdown",
      "source": [
        "##Building convolutional layer"
      ],
      "metadata": {
        "id": "D12EMZAKCNLL"
      }
    },
    {
      "cell_type": "code",
      "source": [
        "cnn.add(tf.keras.layers.Conv2D(filters=64,kernel_size=3,activation='relu',input_shape=[64,64,3])) # convolutional layer -> feature matrix\n",
        "cnn.add(tf.keras.layers.MaxPool2D(pool_size=2,strides=2))   # max pool layer created by scanning the feature matrix to generate 2x2 martrix"
      ],
      "metadata": {
        "id": "hft8TkHZBdny"
      },
      "execution_count": 6,
      "outputs": []
    },
    {
      "cell_type": "code",
      "source": [
        "cnn.add(tf.keras.layers.Conv2D(filters=64,kernel_size=3,activation='relu'))  # doing it again for extracting only important parametres\n",
        "cnn.add(tf.keras.layers.MaxPool2D(pool_size=2,strides=2))"
      ],
      "metadata": {
        "id": "WUeQ19o4Esj4"
      },
      "execution_count": 7,
      "outputs": []
    },
    {
      "cell_type": "code",
      "source": [
        "cnn.add(tf.keras.layers.Dropout(0.5)) # to avoid overfitting"
      ],
      "metadata": {
        "id": "KFgS0LGFE7Kz"
      },
      "execution_count": 8,
      "outputs": []
    },
    {
      "cell_type": "code",
      "source": [
        "cnn.add(tf.keras.layers.Flatten()) # flattening process-flattening our 2x2 matrix"
      ],
      "metadata": {
        "id": "dFiOiS7VF0Qd"
      },
      "execution_count": 9,
      "outputs": []
    },
    {
      "cell_type": "code",
      "source": [
        "cnn.add(tf.keras.layers.Dense(units=128,activation='relu')) # for creating neural network"
      ],
      "metadata": {
        "id": "xsTXrLdLGDFF"
      },
      "execution_count": 10,
      "outputs": []
    },
    {
      "cell_type": "code",
      "source": [
        "#output layer\n",
        "cnn.add(tf.keras.layers.Dense(units=36,activation='softmax'))"
      ],
      "metadata": {
        "id": "xJ0TYt3EHV6r"
      },
      "execution_count": 11,
      "outputs": []
    },
    {
      "cell_type": "markdown",
      "source": [
        "#compiling and training Phase"
      ],
      "metadata": {
        "id": "Kr6ECqCRIiCn"
      }
    },
    {
      "cell_type": "code",
      "source": [
        "cnn.compile(optimizer='rmsprop',loss='categorical_crossentropy',metrics=['accuracy'])"
      ],
      "metadata": {
        "id": "AgGRhJmVH4qc"
      },
      "execution_count": 12,
      "outputs": []
    },
    {
      "cell_type": "code",
      "source": [
        "training_history = cnn.fit(x=training_set,validation_data=validation_set,epochs=30)"
      ],
      "metadata": {
        "colab": {
          "base_uri": "https://localhost:8080/"
        },
        "id": "u5S3iJXkJXBK",
        "outputId": "8d0f9890-c8da-4e02-dc79-8ad8c3eb726f"
      },
      "execution_count": 13,
      "outputs": [
        {
          "output_type": "stream",
          "name": "stdout",
          "text": [
            "Epoch 1/30\n",
            "98/98 [==============================] - 482s 5s/step - loss: 11.0372 - accuracy: 0.0308 - val_loss: 3.5344 - val_accuracy: 0.0684\n",
            "Epoch 2/30\n",
            "98/98 [==============================] - 118s 1s/step - loss: 3.9878 - accuracy: 0.0575 - val_loss: 3.6475 - val_accuracy: 0.0855\n",
            "Epoch 3/30\n",
            "98/98 [==============================] - 124s 1s/step - loss: 3.6469 - accuracy: 0.0732 - val_loss: 3.4061 - val_accuracy: 0.1282\n",
            "Epoch 4/30\n",
            "98/98 [==============================] - 116s 1s/step - loss: 3.8046 - accuracy: 0.1047 - val_loss: 3.0825 - val_accuracy: 0.2308\n",
            "Epoch 5/30\n",
            "98/98 [==============================] - 117s 1s/step - loss: 4.0055 - accuracy: 0.1528 - val_loss: 3.2329 - val_accuracy: 0.2308\n",
            "Epoch 6/30\n",
            "98/98 [==============================] - 120s 1s/step - loss: 3.4189 - accuracy: 0.2055 - val_loss: 3.9085 - val_accuracy: 0.2479\n",
            "Epoch 7/30\n",
            "98/98 [==============================] - 125s 1s/step - loss: 3.0424 - accuracy: 0.2469 - val_loss: 2.6856 - val_accuracy: 0.3561\n",
            "Epoch 8/30\n",
            "98/98 [==============================] - 125s 1s/step - loss: 2.8840 - accuracy: 0.3050 - val_loss: 2.3754 - val_accuracy: 0.4188\n",
            "Epoch 9/30\n",
            "98/98 [==============================] - 124s 1s/step - loss: 2.7261 - accuracy: 0.3589 - val_loss: 1.8525 - val_accuracy: 0.5840\n",
            "Epoch 10/30\n",
            "98/98 [==============================] - 132s 1s/step - loss: 2.6282 - accuracy: 0.4080 - val_loss: 1.8404 - val_accuracy: 0.5983\n",
            "Epoch 11/30\n",
            "98/98 [==============================] - 117s 1s/step - loss: 2.2850 - accuracy: 0.4549 - val_loss: 1.7526 - val_accuracy: 0.6581\n",
            "Epoch 12/30\n",
            "98/98 [==============================] - 114s 1s/step - loss: 2.0832 - accuracy: 0.5117 - val_loss: 2.2943 - val_accuracy: 0.5442\n",
            "Epoch 13/30\n",
            "98/98 [==============================] - 117s 1s/step - loss: 2.1009 - accuracy: 0.5361 - val_loss: 1.3906 - val_accuracy: 0.7407\n",
            "Epoch 14/30\n",
            "98/98 [==============================] - 114s 1s/step - loss: 1.9361 - accuracy: 0.5711 - val_loss: 4.1813 - val_accuracy: 0.4672\n",
            "Epoch 15/30\n",
            "98/98 [==============================] - 131s 1s/step - loss: 2.0900 - accuracy: 0.6177 - val_loss: 1.5672 - val_accuracy: 0.7664\n",
            "Epoch 16/30\n",
            "98/98 [==============================] - 115s 1s/step - loss: 1.8619 - accuracy: 0.6250 - val_loss: 5.9676 - val_accuracy: 0.4017\n",
            "Epoch 17/30\n",
            "98/98 [==============================] - 114s 1s/step - loss: 1.6102 - accuracy: 0.6424 - val_loss: 2.4865 - val_accuracy: 0.6439\n",
            "Epoch 18/30\n",
            "98/98 [==============================] - 113s 1s/step - loss: 1.5358 - accuracy: 0.6645 - val_loss: 1.5251 - val_accuracy: 0.7949\n",
            "Epoch 19/30\n",
            "98/98 [==============================] - 125s 1s/step - loss: 1.4092 - accuracy: 0.6867 - val_loss: 1.6246 - val_accuracy: 0.7835\n",
            "Epoch 20/30\n",
            "98/98 [==============================] - 129s 1s/step - loss: 1.7588 - accuracy: 0.7053 - val_loss: 1.3959 - val_accuracy: 0.7977\n",
            "Epoch 21/30\n",
            "98/98 [==============================] - 123s 1s/step - loss: 1.2933 - accuracy: 0.7345 - val_loss: 1.2412 - val_accuracy: 0.8433\n",
            "Epoch 22/30\n",
            "98/98 [==============================] - 112s 1s/step - loss: 1.4154 - accuracy: 0.7262 - val_loss: 2.1766 - val_accuracy: 0.7692\n",
            "Epoch 23/30\n",
            "98/98 [==============================] - 113s 1s/step - loss: 1.0919 - accuracy: 0.7653 - val_loss: 1.4033 - val_accuracy: 0.8291\n",
            "Epoch 24/30\n",
            "98/98 [==============================] - 121s 1s/step - loss: 1.1561 - accuracy: 0.7592 - val_loss: 1.7580 - val_accuracy: 0.7521\n",
            "Epoch 25/30\n",
            "98/98 [==============================] - 113s 1s/step - loss: 1.2273 - accuracy: 0.7624 - val_loss: 1.1655 - val_accuracy: 0.8775\n",
            "Epoch 26/30\n",
            "98/98 [==============================] - 113s 1s/step - loss: 1.1174 - accuracy: 0.7913 - val_loss: 1.2831 - val_accuracy: 0.8889\n",
            "Epoch 27/30\n",
            "98/98 [==============================] - 115s 1s/step - loss: 0.9618 - accuracy: 0.8048 - val_loss: 1.9185 - val_accuracy: 0.8547\n",
            "Epoch 28/30\n",
            "98/98 [==============================] - 123s 1s/step - loss: 1.0233 - accuracy: 0.8039 - val_loss: 1.4006 - val_accuracy: 0.8974\n",
            "Epoch 29/30\n",
            "98/98 [==============================] - 115s 1s/step - loss: 1.0680 - accuracy: 0.8051 - val_loss: 2.4315 - val_accuracy: 0.7892\n",
            "Epoch 30/30\n",
            "98/98 [==============================] - 122s 1s/step - loss: 0.9124 - accuracy: 0.8154 - val_loss: 1.2462 - val_accuracy: 0.8889\n"
          ]
        }
      ]
    },
    {
      "cell_type": "markdown",
      "source": [
        "#Saving Model"
      ],
      "metadata": {
        "id": "kV8fSv-aoCjg"
      }
    },
    {
      "cell_type": "code",
      "source": [
        "cnn.save('trained_model.h5')"
      ],
      "metadata": {
        "colab": {
          "base_uri": "https://localhost:8080/"
        },
        "id": "Y3BmN0Iyn3lT",
        "outputId": "a307bdf0-8de3-495e-fa13-2b23372c9352"
      },
      "execution_count": 14,
      "outputs": [
        {
          "output_type": "stream",
          "name": "stderr",
          "text": [
            "/usr/local/lib/python3.10/dist-packages/keras/src/engine/training.py:3103: UserWarning: You are saving your model as an HDF5 file via `model.save()`. This file format is considered legacy. We recommend using instead the native Keras format, e.g. `model.save('my_model.keras')`.\n",
            "  saving_api.save_model(\n"
          ]
        }
      ]
    },
    {
      "cell_type": "code",
      "source": [
        "training_history.history # retruns dictonary of training history having loss,accurracy,valid_loss and valid_accuracy as keys and has values corresponding to these key on 30 epochs"
      ],
      "metadata": {
        "colab": {
          "base_uri": "https://localhost:8080/"
        },
        "id": "_DXBq-wKoFi2",
        "outputId": "0b4390b8-380e-4469-a65f-a334e86a45d8"
      },
      "execution_count": 15,
      "outputs": [
        {
          "output_type": "execute_result",
          "data": {
            "text/plain": [
              "{'loss': [11.037175178527832,\n",
              "  3.9877712726593018,\n",
              "  3.6469342708587646,\n",
              "  3.804581642150879,\n",
              "  4.005517959594727,\n",
              "  3.418879985809326,\n",
              "  3.0424301624298096,\n",
              "  2.8839664459228516,\n",
              "  2.7260947227478027,\n",
              "  2.6281707286834717,\n",
              "  2.284972667694092,\n",
              "  2.08322811126709,\n",
              "  2.100942373275757,\n",
              "  1.9360884428024292,\n",
              "  2.0899555683135986,\n",
              "  1.8619413375854492,\n",
              "  1.6102113723754883,\n",
              "  1.5357954502105713,\n",
              "  1.409188151359558,\n",
              "  1.7588006258010864,\n",
              "  1.2933005094528198,\n",
              "  1.415353536605835,\n",
              "  1.091858148574829,\n",
              "  1.1560559272766113,\n",
              "  1.2273313999176025,\n",
              "  1.1174232959747314,\n",
              "  0.9617659449577332,\n",
              "  1.0233428478240967,\n",
              "  1.0680361986160278,\n",
              "  0.9123748540878296],\n",
              " 'accuracy': [0.030818618834018707,\n",
              "  0.057463884353637695,\n",
              "  0.073194220662117,\n",
              "  0.10465489327907562,\n",
              "  0.1528089940547943,\n",
              "  0.20545746386051178,\n",
              "  0.2468699812889099,\n",
              "  0.3049759268760681,\n",
              "  0.3589085042476654,\n",
              "  0.40802568197250366,\n",
              "  0.45489567518234253,\n",
              "  0.5117174983024597,\n",
              "  0.5361155867576599,\n",
              "  0.5711075663566589,\n",
              "  0.6176565289497375,\n",
              "  0.6250401139259338,\n",
              "  0.6423755884170532,\n",
              "  0.6645264625549316,\n",
              "  0.6866773962974548,\n",
              "  0.7052969336509705,\n",
              "  0.7345104217529297,\n",
              "  0.7261637449264526,\n",
              "  0.7653290629386902,\n",
              "  0.7592295408248901,\n",
              "  0.7624397873878479,\n",
              "  0.7913322448730469,\n",
              "  0.804815411567688,\n",
              "  0.8038523197174072,\n",
              "  0.8051364421844482,\n",
              "  0.8154093027114868],\n",
              " 'val_loss': [3.5343737602233887,\n",
              "  3.647495746612549,\n",
              "  3.4060819149017334,\n",
              "  3.082451343536377,\n",
              "  3.2329020500183105,\n",
              "  3.9085161685943604,\n",
              "  2.685608148574829,\n",
              "  2.3754360675811768,\n",
              "  1.8525465726852417,\n",
              "  1.8404461145401,\n",
              "  1.75260591506958,\n",
              "  2.2942965030670166,\n",
              "  1.3906421661376953,\n",
              "  4.181326389312744,\n",
              "  1.5672073364257812,\n",
              "  5.967615604400635,\n",
              "  2.4864614009857178,\n",
              "  1.525126338005066,\n",
              "  1.624550461769104,\n",
              "  1.3959424495697021,\n",
              "  1.2411519289016724,\n",
              "  2.176562786102295,\n",
              "  1.4032886028289795,\n",
              "  1.7579649686813354,\n",
              "  1.1654988527297974,\n",
              "  1.2831436395645142,\n",
              "  1.9184542894363403,\n",
              "  1.4005770683288574,\n",
              "  2.431516408920288,\n",
              "  1.2461570501327515],\n",
              " 'val_accuracy': [0.0683760717511177,\n",
              "  0.08547008782625198,\n",
              "  0.12820513546466827,\n",
              "  0.23076923191547394,\n",
              "  0.23076923191547394,\n",
              "  0.24786324799060822,\n",
              "  0.3561253547668457,\n",
              "  0.4188034236431122,\n",
              "  0.5840455889701843,\n",
              "  0.5982906222343445,\n",
              "  0.6581196784973145,\n",
              "  0.5441595315933228,\n",
              "  0.7407407164573669,\n",
              "  0.4672364592552185,\n",
              "  0.7663817405700684,\n",
              "  0.4017094075679779,\n",
              "  0.6438746452331543,\n",
              "  0.7948718070983887,\n",
              "  0.7834757566452026,\n",
              "  0.7977207899093628,\n",
              "  0.8433048725128174,\n",
              "  0.7692307829856873,\n",
              "  0.8290598392486572,\n",
              "  0.752136766910553,\n",
              "  0.8774929046630859,\n",
              "  0.8888888955116272,\n",
              "  0.8547008633613586,\n",
              "  0.8974359035491943,\n",
              "  0.7891737818717957,\n",
              "  0.8888888955116272]}"
            ]
          },
          "metadata": {},
          "execution_count": 15
        }
      ]
    },
    {
      "cell_type": "code",
      "source": [
        "# recording history in json file\n",
        "import json\n",
        "with open('training_hist','w') as f:\n",
        "  json.dump(training_history.history,f)"
      ],
      "metadata": {
        "id": "9FQ3BQD8psz0"
      },
      "execution_count": 16,
      "outputs": []
    },
    {
      "cell_type": "code",
      "source": [
        "print(training_history.history.keys())"
      ],
      "metadata": {
        "colab": {
          "base_uri": "https://localhost:8080/"
        },
        "id": "jboJCRSFrFRN",
        "outputId": "345b9b92-1b25-4b55-ee2e-fe386ebc8669"
      },
      "execution_count": 19,
      "outputs": [
        {
          "output_type": "stream",
          "name": "stdout",
          "text": [
            "dict_keys(['loss', 'accuracy', 'val_loss', 'val_accuracy'])\n"
          ]
        }
      ]
    },
    {
      "cell_type": "markdown",
      "source": [
        "#Calculating accuracy achieved on validation set"
      ],
      "metadata": {
        "id": "cLyu2FA5sZKQ"
      }
    },
    {
      "cell_type": "code",
      "source": [
        "print(\"validation accuracy: {} %\".format(training_history.history['val_accuracy'][-1]*100))"
      ],
      "metadata": {
        "colab": {
          "base_uri": "https://localhost:8080/"
        },
        "id": "qb8nsYNxsfjf",
        "outputId": "547579af-a1fd-46eb-ee61-ee77d48a969c"
      },
      "execution_count": 28,
      "outputs": [
        {
          "output_type": "stream",
          "name": "stdout",
          "text": [
            "validation accuracy: 88.88888955116272 %\n"
          ]
        }
      ]
    }
  ]
}